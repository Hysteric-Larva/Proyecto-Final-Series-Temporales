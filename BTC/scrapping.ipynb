{
 "cells": [
  {
   "cell_type": "code",
   "execution_count": 21,
   "id": "e1ef103c-9748-4f81-ac18-318e1a6b604d",
   "metadata": {},
   "outputs": [],
   "source": [
    "from binance.spot import Spot\n",
    "import pandas as pd\n",
    "import datetime as dt\n",
    "import datetime"
   ]
  },
  {
   "cell_type": "code",
   "execution_count": 22,
   "id": "cb034443-dd0c-441f-8daf-3e404f2bbba3",
   "metadata": {},
   "outputs": [],
   "source": [
    "pd.options.display.precision = 3\n",
    "pd.set_option('display.precision', 3)"
   ]
  },
  {
   "cell_type": "code",
   "execution_count": 23,
   "id": "46253dde-c3ac-4cb6-a1ef-68ba1daaaa25",
   "metadata": {},
   "outputs": [
    {
     "name": "stdout",
     "output_type": "stream",
     "text": [
      "2024-11-18 23:39:04.150000\n"
     ]
    }
   ],
   "source": [
    "\n",
    "client = Spot()\n",
    "# Get server timestamp\n",
    "fecha = client.time()\n",
    "fecha = datetime.datetime.fromtimestamp(fecha[\"serverTime\"] / 1e3)\n",
    "print(fecha)\n",
    "# Get klines of BTCUSDT at 1m interval\n",
    "#print(client.klines(\"BTCUSDT\", \"1m\"))\n",
    "# Get last 10 klines of BNBUSDT at 1h interval\n",
    "#print(client.klines(\"BTCUSDT\", \"1h\", limit=72))\n",
    "\n",
    "\n",
    "cols = ['Open Time', 'Open', 'High', 'Low', 'Close', 'Volume', \n",
    "        'Close Time', 'Quote Asset Volume', 'Number of Trades', \n",
    "        'TBBAV', 'TBQAV', 'Ignore']\n",
    "df = pd.DataFrame(client.klines(\"BTCUSDT\", \"1d\", limit=3*30),columns = cols)"
   ]
  },
  {
   "cell_type": "code",
   "execution_count": 24,
   "id": "73aa8079-5535-4c92-8333-015b53579878",
   "metadata": {},
   "outputs": [
    {
     "data": {
      "text/plain": [
       "datetime.datetime(2024, 11, 18, 23, 39, 4, 150000)"
      ]
     },
     "execution_count": 24,
     "metadata": {},
     "output_type": "execute_result"
    }
   ],
   "source": [
    "fecha"
   ]
  },
  {
   "cell_type": "code",
   "execution_count": 25,
   "id": "174798f1-3280-4a54-ad27-82deae3b5c0d",
   "metadata": {},
   "outputs": [],
   "source": [
    "df[df.drop(columns = [\"Open Time\", \"Close Time\"]).columns] = df[df.drop(columns = [\"Open Time\", \"Close Time\"]).columns].astype(\"float\")"
   ]
  },
  {
   "cell_type": "code",
   "execution_count": 26,
   "id": "05e782fd-aa4d-4482-8a9d-4b39547acac7",
   "metadata": {},
   "outputs": [],
   "source": [
    "df[\"Open Time\"] = df['Open Time'].apply(lambda x: datetime.datetime.fromtimestamp(x / 1e3))"
   ]
  },
  {
   "cell_type": "code",
   "execution_count": 27,
   "id": "3be98bfb-3964-43a6-be42-223efc12bd7e",
   "metadata": {},
   "outputs": [],
   "source": [
    "df[\"Close Time\"] = df['Close Time'].apply(lambda x: datetime.datetime.fromtimestamp(x / 1e3))"
   ]
  },
  {
   "cell_type": "code",
   "execution_count": 28,
   "id": "2374bbcd-0484-47ba-af7c-dff99b9bbb57",
   "metadata": {},
   "outputs": [],
   "source": [
    "name = \"BTC_info_\" + str(fecha.year)+ str(fecha.year)+ str(fecha.month)+ str(fecha.day)+ str(fecha.hour) + \".csv\""
   ]
  },
  {
   "cell_type": "code",
   "execution_count": 29,
   "id": "2c04314f-14ae-4a7d-9e4a-30608db496c8",
   "metadata": {},
   "outputs": [],
   "source": [
    "df.to_csv(name, index=False)"
   ]
  },
  {
   "cell_type": "code",
   "execution_count": null,
   "id": "b12cb1e7-1114-4930-83e6-ef413ce2bd56",
   "metadata": {},
   "outputs": [],
   "source": []
  }
 ],
 "metadata": {
  "kernelspec": {
   "display_name": "Python 3 (ipykernel)",
   "language": "python",
   "name": "python3"
  },
  "language_info": {
   "codemirror_mode": {
    "name": "ipython",
    "version": 3
   },
   "file_extension": ".py",
   "mimetype": "text/x-python",
   "name": "python",
   "nbconvert_exporter": "python",
   "pygments_lexer": "ipython3",
   "version": "3.11.7"
  }
 },
 "nbformat": 4,
 "nbformat_minor": 5
}
